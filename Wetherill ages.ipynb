{
 "cells": [
  {
   "cell_type": "markdown",
   "metadata": {},
   "source": [
    "## Расчет возраста 7/6 и диагармма Везерилла"
   ]
  },
  {
   "cell_type": "code",
   "execution_count": null,
   "metadata": {},
   "outputs": [],
   "source": [
    "import math\n",
    "import numpy as np\n",
    "from scipy import optimize\n",
    "import matplotlib.pyplot as plt\n",
    "import pandas as pd\n",
    "import matplotlib.pyplot as plt\n",
    "from scipy import stats"
   ]
  },
  {
   "cell_type": "code",
   "execution_count": 2,
   "metadata": {},
   "outputs": [],
   "source": [
    "lam_235 = 0.00098485\n",
    "lam_238 = 0.000155125"
   ]
  },
  {
   "cell_type": "markdown",
   "metadata": {},
   "source": [
    "### Построение графика с конкордией\n",
    "\n",
    "Загружаем исходные таблицы с отношениями. Дальше считаем отношения U/Pb"
   ]
  },
  {
   "cell_type": "code",
   "execution_count": 3,
   "metadata": {},
   "outputs": [
    {
     "data": {
      "text/html": [
       "<div>\n",
       "<style scoped>\n",
       "    .dataframe tbody tr th:only-of-type {\n",
       "        vertical-align: middle;\n",
       "    }\n",
       "\n",
       "    .dataframe tbody tr th {\n",
       "        vertical-align: top;\n",
       "    }\n",
       "\n",
       "    .dataframe thead th {\n",
       "        text-align: right;\n",
       "    }\n",
       "</style>\n",
       "<table border=\"1\" class=\"dataframe\">\n",
       "  <thead>\n",
       "    <tr style=\"text-align: right;\">\n",
       "      <th></th>\n",
       "      <th>[38/04]</th>\n",
       "      <th>[06/04]</th>\n",
       "      <th>[35/04]</th>\n",
       "      <th>[07/04]</th>\n",
       "    </tr>\n",
       "  </thead>\n",
       "  <tbody>\n",
       "    <tr>\n",
       "      <th>0</th>\n",
       "      <td>4510</td>\n",
       "      <td>1673</td>\n",
       "      <td>32.71</td>\n",
       "      <td>306</td>\n",
       "    </tr>\n",
       "    <tr>\n",
       "      <th>1</th>\n",
       "      <td>596</td>\n",
       "      <td>419</td>\n",
       "      <td>4.32</td>\n",
       "      <td>104</td>\n",
       "    </tr>\n",
       "    <tr>\n",
       "      <th>2</th>\n",
       "      <td>3185</td>\n",
       "      <td>1699</td>\n",
       "      <td>23.10</td>\n",
       "      <td>396</td>\n",
       "    </tr>\n",
       "    <tr>\n",
       "      <th>3</th>\n",
       "      <td>4517</td>\n",
       "      <td>2419</td>\n",
       "      <td>32.76</td>\n",
       "      <td>555</td>\n",
       "    </tr>\n",
       "    <tr>\n",
       "      <th>4</th>\n",
       "      <td>771</td>\n",
       "      <td>372</td>\n",
       "      <td>5.59</td>\n",
       "      <td>94</td>\n",
       "    </tr>\n",
       "    <tr>\n",
       "      <th>5</th>\n",
       "      <td>7581</td>\n",
       "      <td>3087</td>\n",
       "      <td>54.98</td>\n",
       "      <td>576</td>\n",
       "    </tr>\n",
       "  </tbody>\n",
       "</table>\n",
       "</div>"
      ],
      "text/plain": [
       "   [38/04]  [06/04]  [35/04]  [07/04]\n",
       "0     4510     1673    32.71      306\n",
       "1      596      419     4.32      104\n",
       "2     3185     1699    23.10      396\n",
       "3     4517     2419    32.76      555\n",
       "4      771      372     5.59       94\n",
       "5     7581     3087    54.98      576"
      ]
     },
     "execution_count": 3,
     "metadata": {},
     "output_type": "execute_result"
    }
   ],
   "source": [
    "input_data=pd.read_csv('~//Documents//python//wetherill//data.csv', sep=',')\n",
    "data = input_data.iloc[:,[0,1,2,3]]\n",
    "data"
   ]
  },
  {
   "cell_type": "code",
   "execution_count": 4,
   "metadata": {},
   "outputs": [],
   "source": [
    "pb76 = data[\"[07/04]\"]/data[\"[06/04]\"]\n",
    "pu68 = data[\"[06/04]\"]/data[\"[38/04]\"]\n",
    "pu75 = data[\"[07/04]\"]/data[\"[35/04]\"]"
   ]
  },
  {
   "cell_type": "code",
   "execution_count": 5,
   "metadata": {},
   "outputs": [
    {
     "name": "stdout",
     "output_type": "stream",
     "text": [
      "2679.3884473622147\n",
      "3173.385058105844\n",
      "3073.306528195003\n",
      "3048.1010338224182\n",
      "3201.687113265217\n",
      "2712.3260426946113\n"
     ]
    }
   ],
   "source": [
    "#теперь посчитаем возрасты 207/206.\n",
    "def pb76_f(t):\n",
    "    return (np.exp(lam_235*t) - 1) / ((np.exp(lam_238*t) - 1)*137.88)\n",
    "\n",
    "def creat_f(x):\n",
    "    return lambda t: x - pb76_f(t)\n",
    "\n",
    "n = len(pb76)\n",
    "for i in range(n): \n",
    "    ff = creat_f(pb76[i])\n",
    "    sol = optimize.root_scalar(ff, bracket=[1, 4500], method='bisect')\n",
    "    print(sol.root)"
   ]
  },
  {
   "cell_type": "code",
   "execution_count": 12,
   "metadata": {},
   "outputs": [],
   "source": [
    "# это нужно, чтобы построить график с конкордией\n",
    "time = np.linspace(1, 3500, 3500)\n",
    "\n",
    "def x(t):\n",
    "    return (np.exp(lam_235*t) - 1) \n",
    "def y(t):\n",
    "    return (np.exp(lam_238*t) - 1) \n",
    "\n",
    "conc_x = x(time)\n",
    "conc_y = y(time)"
   ]
  },
  {
   "cell_type": "code",
   "execution_count": 13,
   "metadata": {},
   "outputs": [
    {
     "name": "stdout",
     "output_type": "stream",
     "text": [
      "slope: 0.021570    intercept: 0.164618\n"
     ]
    }
   ],
   "source": [
    "# процедура поиска уравнения регрессии между точками\n",
    "slope, intercept, r_value, p_value, std_err = stats.linregress(pu75, pu68)\n",
    "print(\"slope: %f    intercept: %f\" % (slope, intercept))"
   ]
  },
  {
   "cell_type": "code",
   "execution_count": 14,
   "metadata": {},
   "outputs": [
    {
     "data": {
      "image/png": "[encoded data removed]",
      "text/plain": [
       "<Figure size 432x288 with 1 Axes>"
      ]
     },
     "metadata": {
      "needs_background": "light"
     },
     "output_type": "display_data"
    }
   ],
   "source": [
    "# для наглядности построим график с конкордией и дискордией\n",
    "plt.plot(pu75, pu68, 'o', label='original data')\n",
    "disc = np.linspace(1,30,29)\n",
    "plt.plot(disc, intercept + slope*disc, 'r', label='discordia')\n",
    "plt.plot(conc_x,conc_y, 'g', label='concordia')\n",
    "plt.legend()\n",
    "plt.show()"
   ]
  },
  {
   "cell_type": "markdown",
   "metadata": {},
   "source": [
    "## Поиск точек пересечения с прямой\n",
    "\n",
    "Нам нужно найти пересечение дискордии и конкордии. Это решается аналитически -- напишем уравнение. \n",
    "\n",
    "У нас есть функциональная зависимость x(t) и y(t):  \n",
    "$x = e^{\\lambda_{235}t}-1$  \n",
    "$y = e^{\\lambda_{238}t}-1$\n",
    "\n",
    "\n",
    "Также у нас есть функциональная зависимость для линейной регрессии. \n",
    "$y = k \\cdot x + b$\n",
    "\n",
    "Подставим выражения для x(t) и y(t) в уравнение выше:  \n",
    "$e^{\\lambda_{238}t}-1 = k \\cdot (e^{\\lambda_{235}t}-1) + b$\n",
    "\n",
    "Итого получаем  \n",
    "$ f(t) = e^{\\lambda_{238}t}-1 - k \\cdot (e^{\\lambda_{235}t}-1) - b = 0 $\n",
    "\n",
    "Графически это выглядит так -- выпуклая функция с двумя корнями:"
   ]
  },
  {
   "cell_type": "code",
   "execution_count": 17,
   "metadata": {},
   "outputs": [
    {
     "data": {
      "text/plain": [
       "<matplotlib.lines.Line2D at 0x128aa31d0>"
      ]
     },
     "execution_count": 17,
     "metadata": {},
     "output_type": "execute_result"
    },
    {
     "data": {
      "image/png": "[encoded data removed]",
      "text/plain": [
       "<Figure size 432x288 with 1 Axes>"
      ]
     },
     "metadata": {
      "needs_background": "light"
     },
     "output_type": "display_data"
    }
   ],
   "source": [
    "def age_f(t):\n",
    "    return np.exp(lam_238*t) - 1 - slope*(np.exp(lam_235*t) - 1) - intercept\n",
    "\n",
    "age = np.linspace(1000, 3500, 2500)\n",
    "values = age_f(age)\n",
    "plt.plot(age, values)\n",
    "plt.axhline(y=0, color='r', linestyle='dotted')"
   ]
  },
  {
   "cell_type": "markdown",
   "metadata": {},
   "source": [
    "Проблема в том, что алгоритм bisect (половинное деление) может искать корни, только в тех промежутках, где значения функции имеют противоположный знак. Это означает, что для каждого корня в процедуре нужно задать интервал поиска корней.\n",
    "\n",
    "Разбить весь временной интервал на 2 промежутка проще всего по максимуму функции. В итоге мы получим два промежутка:\n",
    "\n",
    "($0;t_{max}$) и ($t_{max};4500$)\n",
    "\n",
    "Для поиска $t_{max}$ возьмем производную от $ f(t) = e^{\\lambda_{238}t}-1 - k \\cdot (e^{\\lambda_{235}t}-1) - b$:\n",
    "\n",
    "$ \\lambda_{238} \\cdot e^{\\lambda_{238} t_{max}} - k \\cdot \\lambda_{235} \\cdot e^{\\lambda_{235} t_{max}} = 0 $\n",
    "\n",
    "Решение уравнения от $t_{max}$:\n",
    "\n",
    "$ t_{max} = \\frac{ln \\lambda_{238} - ln (\\lambda_{235} \\cdot k)}{\\lambda_{235} - \\lambda_{238}} $\n",
    "\n",
    "Теперь используем $t_{max}$ для определения промежутков поиска корней уравнения:\n"
   ]
  },
  {
   "cell_type": "code",
   "execution_count": 19,
   "metadata": {},
   "outputs": [
    {
     "name": "stdout",
     "output_type": "stream",
     "text": [
      "upper: 3181.604846    lower: 1275.558608\n"
     ]
    }
   ],
   "source": [
    "t_max = (np.log(lam_238) - np.log(slope*lam_235)) / (lam_235 - lam_238)\n",
    "\n",
    "sol1 = optimize.root_scalar(age_f, bracket=[t_max, 4500], method='bisect')\n",
    "sol2 = optimize.root_scalar(age_f, bracket=[0, t_max], method='bisect')\n",
    "print(\"upper: %f    lower: %f\" % (sol1.root, sol2.root))"
   ]
  }
 ],
 "metadata": {
  "kernelspec": {
   "display_name": "Python 3",
   "language": "python",
   "name": "python3"
  },
  "language_info": {
   "codemirror_mode": {
    "name": "ipython",
    "version": 3
   },
   "file_extension": ".py",
   "mimetype": "text/x-python",
   "name": "python",
   "nbconvert_exporter": "python",
   "pygments_lexer": "ipython3",
   "version": "3.8.2"
  }
 },
 "nbformat": 4,
 "nbformat_minor": 4
}
